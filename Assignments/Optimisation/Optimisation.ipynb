{
 "cells": [
  {
   "cell_type": "markdown",
   "metadata": {},
   "source": [
    "Question 1\n",
    "===\n",
    "\n",
    "In this question, we consider the marketing.csv data which contains 200 observations and 4 variables. The response variable is sales, denoted as $y$. The explanatory variables — measured in thousands of dollars — are advertising budget spent on youtube, newspapers and facebook, respectively, which are denoted as $X1$, $X2$ and $X3$, respectively. \n",
    "\n",
    "To model impacts of the media strategies on logarithm of sales, a researcher uses the following multiple linear regression:\n",
    "\n",
    "$\\begin{equation} \\tag{1}\n",
    "Y = log(y) = \\beta_0 + \\beta_1 log(X_1) + \\beta_2 log(X_2) + \\beta_3 log(X_3) + \\epsilon,\n",
    "\\end{equation}$\n",
    "$\\begin{equation} \\tag{2}\n",
    " = \\mathbf{X}\\mathbf{\\beta} + \\epsilon\n",
    "\\end{equation}$\n",
    "\n",
    "where $Y, log(X1), log(X2) and log(X3)$ is a vector of $n × 1$ ($n$ is the number of observations in the dataset), $\\mathbf{X}$ = $(1_n, log(X1), log(X2), log(X3))$ and $\\mathbf{\\beta}$ = $[\\beta_0, \\beta_1, \\beta_2, \\beta_3]'$.\n",
    "\n",
    "The parameter $\\beta$ in Equation (2) can be estimated by minimising the following loss function - mean squared errors:\n",
    "$\\begin{equation} \\tag{3}\n",
    "\\mathcal{L} = \\frac{1}{n} (Y - \\mathbf{X\\beta})'(Y - \\mathbf{X\\beta}) = \\frac{1}{n} \\sum_{i=1}^{n} (Y_i - \\mathbf{X_i\\beta})^2\n",
    "\\end{equation}$\n",
    "\n",
    "It is well-known that the optimal solution of $\\beta$ in Equation (3), denoted as $\\hat{\\beta}$, has the following form:\n",
    "$\\begin{equation} \\tag{4}\n",
    "\\hat{\\beta} = (\\mathbf{X}'\\mathbf{X})^{-1}\\mathbf{X}'Y\n",
    "\\end{equation}$\n",
    "\n",
    "and its standard deviation is\n",
    "$\\begin{equation} \\tag{5}\n",
    "s.e(\\hat{\\beta}) = \\sqrt{s^2(\\mathbf{X}'\\mathbf{X})^{-1}} \\ where \\ s^2 = \\frac{1}{n - 4} \\sum_{i=1}^{n} (Y_i - \\mathbf{X_i\\hat{\\beta}})^2, i = 1,2,...,n\n",
    "\\end{equation}$\n",
    "\n",
    "### a.\n",
    "Use equations (4) and (5) to estimate $\\beta$ and its standard deviation in Python. Comment on impacts of the media advertisement on sales."
   ]
  },
  {
   "cell_type": "code",
   "execution_count": 24,
   "metadata": {},
   "outputs": [
    {
     "name": "stdout",
     "output_type": "stream",
     "text": [
      "β: [[69.80318991]\n",
      " [32.71307425]\n",
      " [48.0206547 ]\n",
      " [52.17758438]]\n",
      "σ: [[18.59239351 12.80300594 15.61952352 16.3378405 ]\n",
      " [12.80300594  8.63330818 10.73885012 11.24132574]\n",
      " [15.61952352 10.73885012 12.57692932 13.60539802]\n",
      " [16.3378405  11.24132574 13.60539802 13.57527735]]\n"
     ]
    }
   ],
   "source": [
    "import numpy as np\n",
    "import pandas as pd\n",
    "\n",
    "data = pd.read_csv(\"marketing.csv\", sep=\",\")\n",
    "# Remove rows where there is a 0 as this results in errors when trying to take the log\n",
    "zeroIdxs = np.where((data[\"youtube\"] == 0) | (data[\"newspaper\"] == 0) | (data[\"facebook\"] == 0))\n",
    "for idx in zeroIdxs[0]:\n",
    "    data.drop(index = idx, inplace = True)\n",
    "data.reset_index(drop = True, inplace = True)\n",
    "\n",
    "XMat = np.transpose(np.matrix([np.ones(n), np.log10(data[\"youtube\"]), np.log10(data[\"newspaper\"]), np.log10(data[\"facebook\"])]))\n",
    "YMat = np.transpose(np.matrix(data[\"sales\"]))\n",
    "betahat = (1 / (np.transpose(XMat) * XMat)) * (np.transpose(XMat) * YMat)\n",
    "temp = 0\n",
    "for i in range(len(data)):\n",
    "    temp += np.power((YMat[i] - XMat[i] * betahat), 2)\n",
    "stddev = np.sqrt(((1 / (n - 4)) * temp).item() * (1 / (np.transpose(XMat) * XMat)))\n",
    "\n",
    "print('\\u03B2: ', end=\"\")\n",
    "print(betahat)\n",
    "print('\\u03C3: ', end=\"\")\n",
    "print(stddev)"
   ]
  },
  {
   "cell_type": "markdown",
   "metadata": {},
   "source": [
    "### b.\n",
    "Write down a step-by-step procedure of Classical Gradient Descent to estimate $\\beta$ in Equation (3)\n",
    "\n",
    "1. Choose arbitrary starting point $x^k, k = 0$.\n",
    "2. Decide learning rate ($\\alpha$).\n",
    "3. Find the gradient $\\mathcal{L}$. $\\nabla f(x^k) = [\\frac{\\partial f}{\\partial \\beta_0}, \\frac{\\partial f}{\\partial \\beta_1}, \\frac{\\partial f}{\\partial \\beta_2}, \\frac{\\partial f}{\\partial \\beta_3}]'$\n",
    "4. Update $x^{k+1},\\ x^{k+1} = x^k - \\alpha \\nabla f (x^k)$\n",
    "5. Repeat steps 2 - 4 until stopping criteria is met. This is usually of the form $x^{k+1} - x^k < \\epsilon = 1e-6$\n",
    "6. Obtain result. Note: This is usually a local minimum."
   ]
  },
  {
   "cell_type": "markdown",
   "metadata": {},
   "source": [
    "c.\n",
    "===\n",
    "Write Python code to implement the Classical Gradient Descent procedure provided in (b)."
   ]
  },
  {
   "cell_type": "code",
   "execution_count": null,
   "metadata": {},
   "outputs": [],
   "source": []
  },
  {
   "cell_type": "markdown",
   "metadata": {},
   "source": [
    "d.\n",
    "===\n",
    " Discuss the results obtained from (c) and compare it with that obtained from (a)."
   ]
  }
 ],
 "metadata": {
  "kernelspec": {
   "display_name": "Python 3.10.0 64-bit",
   "language": "python",
   "name": "python3"
  },
  "language_info": {
   "codemirror_mode": {
    "name": "ipython",
    "version": 3
   },
   "file_extension": ".py",
   "mimetype": "text/x-python",
   "name": "python",
   "nbconvert_exporter": "python",
   "pygments_lexer": "ipython3",
   "version": "3.10.0"
  },
  "orig_nbformat": 4,
  "vscode": {
   "interpreter": {
    "hash": "369f2c481f4da34e4445cda3fffd2e751bd1c4d706f27375911949ba6bb62e1c"
   }
  }
 },
 "nbformat": 4,
 "nbformat_minor": 2
}
