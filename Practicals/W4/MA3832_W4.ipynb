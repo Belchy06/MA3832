{
 "cells": [
  {
   "cell_type": "markdown",
   "metadata": {},
   "source": [
    "# MA3832 Week 4\n",
    "\n",
    "Repeat step 1-3 from Week 3 to download and pre-process Mnist data\n"
   ]
  },
  {
   "cell_type": "code",
   "execution_count": 7,
   "metadata": {},
   "outputs": [
    {
     "name": "stdout",
     "output_type": "stream",
     "text": [
      "y_test: [[0. 0. 0. ... 0. 0. 1.]\n",
      " [0. 0. 1. ... 0. 0. 0.]\n",
      " [0. 1. 0. ... 0. 0. 0.]\n",
      " ...\n",
      " [0. 0. 0. ... 0. 1. 0.]\n",
      " [0. 1. 0. ... 0. 0. 0.]\n",
      " [0. 0. 0. ... 0. 0. 0.]]\n"
     ]
    }
   ],
   "source": [
    "import tensorflow as tf \n",
    "from tensorflow import keras\n",
    "import matplotlib.pyplot as plt \n",
    "from keras.datasets import fashion_mnist #get Fashion MNIST from Keras\n",
    "import numpy as np\n",
    "import pandas as pd\n",
    "from tensorflow.keras.utils import to_categorical\n",
    "from tensorflow.keras.optimizers import SGD\n",
    "from tensorflow.keras.losses import categorical_crossentropy\n",
    "\n",
    "#**********************************************************\n",
    "# Download data\n",
    "#**********************************************************\n",
    "\n",
    "(x_train, y_train), (x_test, y_test) = fashion_mnist.load_data()\n",
    "#**********************************************************************\n",
    "# Constructing a neural network\n",
    "#**********************************************************************\n",
    "# define image dimensions\n",
    "img_rows, img_cols = 28, 28 #images are 28*28 pixels\n",
    "\n",
    "\n",
    "\n",
    "# Preprocessing data\n",
    "\n",
    "x_train = x_train.astype('float32')/255\n",
    "x_test = x_test.astype('float32')/255\n",
    "\n",
    "num_class = 10;\n",
    "y_train = to_categorical(y_train, num_class)\n",
    "y_test = to_categorical(y_test,num_class)\n",
    "\n",
    "\n",
    "print(\"y_test:\", y_test)"
   ]
  },
  {
   "cell_type": "markdown",
   "metadata": {},
   "source": [
    "### Build neural network\n",
    "Number of hidden layers = 2\n",
    " - First hidden layer includes 64 neurons\n",
    " - Second hidden layers includes 32 neurons \n",
    " \n",
    "Use non-saturating activation function with he_normal initialization <br>\n",
    "Dropout at the last layer <br>\n",
    "Use Momemtum optimisation "
   ]
  },
  {
   "cell_type": "code",
   "execution_count": 8,
   "metadata": {},
   "outputs": [
    {
     "name": "stdout",
     "output_type": "stream",
     "text": [
      "Epoch 1/100\n",
      "1688/1688 [==============================] - 3s 2ms/step - loss: 0.8925 - accuracy: 0.6956 - val_loss: 0.5591 - val_accuracy: 0.8002\n",
      "Epoch 2/100\n",
      "1688/1688 [==============================] - 3s 2ms/step - loss: 0.5674 - accuracy: 0.8036 - val_loss: 0.4750 - val_accuracy: 0.8317\n",
      "Epoch 3/100\n",
      "1688/1688 [==============================] - 3s 2ms/step - loss: 0.5047 - accuracy: 0.8244 - val_loss: 0.4488 - val_accuracy: 0.8395\n",
      "Epoch 4/100\n",
      "1688/1688 [==============================] - 3s 2ms/step - loss: 0.4774 - accuracy: 0.8331 - val_loss: 0.4286 - val_accuracy: 0.8418\n",
      "Epoch 5/100\n",
      "1688/1688 [==============================] - 3s 2ms/step - loss: 0.4554 - accuracy: 0.8396 - val_loss: 0.4118 - val_accuracy: 0.8503\n",
      "Epoch 6/100\n",
      "1688/1688 [==============================] - 3s 2ms/step - loss: 0.4373 - accuracy: 0.8448 - val_loss: 0.4043 - val_accuracy: 0.8512\n",
      "Epoch 7/100\n",
      "1688/1688 [==============================] - 3s 2ms/step - loss: 0.4268 - accuracy: 0.8501 - val_loss: 0.4027 - val_accuracy: 0.8485\n",
      "Epoch 8/100\n",
      "1688/1688 [==============================] - 3s 2ms/step - loss: 0.4145 - accuracy: 0.8537 - val_loss: 0.3891 - val_accuracy: 0.8570\n",
      "Epoch 9/100\n",
      "1688/1688 [==============================] - 3s 2ms/step - loss: 0.4074 - accuracy: 0.8553 - val_loss: 0.3838 - val_accuracy: 0.8610\n",
      "Epoch 10/100\n",
      "1688/1688 [==============================] - 3s 2ms/step - loss: 0.3972 - accuracy: 0.8588 - val_loss: 0.3740 - val_accuracy: 0.8578\n",
      "Epoch 11/100\n",
      "1688/1688 [==============================] - 3s 2ms/step - loss: 0.3907 - accuracy: 0.8620 - val_loss: 0.3728 - val_accuracy: 0.8645\n",
      "Epoch 12/100\n",
      "1688/1688 [==============================] - 3s 2ms/step - loss: 0.3845 - accuracy: 0.8626 - val_loss: 0.3695 - val_accuracy: 0.8650\n",
      "Epoch 13/100\n",
      "1688/1688 [==============================] - 3s 2ms/step - loss: 0.3782 - accuracy: 0.8629 - val_loss: 0.3632 - val_accuracy: 0.8650\n",
      "Epoch 14/100\n",
      "1688/1688 [==============================] - 3s 2ms/step - loss: 0.3747 - accuracy: 0.8676 - val_loss: 0.3668 - val_accuracy: 0.8670\n",
      "Epoch 15/100\n",
      "1688/1688 [==============================] - 3s 2ms/step - loss: 0.3688 - accuracy: 0.8705 - val_loss: 0.3616 - val_accuracy: 0.8677\n",
      "Epoch 16/100\n",
      "1688/1688 [==============================] - 3s 2ms/step - loss: 0.3628 - accuracy: 0.8686 - val_loss: 0.3571 - val_accuracy: 0.8682\n",
      "Epoch 17/100\n",
      "1688/1688 [==============================] - 3s 2ms/step - loss: 0.3589 - accuracy: 0.8714 - val_loss: 0.3516 - val_accuracy: 0.8713\n",
      "Epoch 18/100\n",
      "1688/1688 [==============================] - 3s 2ms/step - loss: 0.3560 - accuracy: 0.8721 - val_loss: 0.3489 - val_accuracy: 0.8700\n",
      "Epoch 19/100\n",
      "1688/1688 [==============================] - 3s 2ms/step - loss: 0.3486 - accuracy: 0.8742 - val_loss: 0.3549 - val_accuracy: 0.8710\n",
      "Epoch 20/100\n",
      "1688/1688 [==============================] - 3s 2ms/step - loss: 0.3468 - accuracy: 0.8756 - val_loss: 0.3451 - val_accuracy: 0.8725\n",
      "Epoch 21/100\n",
      "1688/1688 [==============================] - 3s 2ms/step - loss: 0.3445 - accuracy: 0.8767 - val_loss: 0.3433 - val_accuracy: 0.8745\n",
      "Epoch 22/100\n",
      "1688/1688 [==============================] - 3s 2ms/step - loss: 0.3400 - accuracy: 0.8773 - val_loss: 0.3434 - val_accuracy: 0.8745\n",
      "Epoch 23/100\n",
      "1688/1688 [==============================] - 3s 2ms/step - loss: 0.3373 - accuracy: 0.8789 - val_loss: 0.3570 - val_accuracy: 0.8657\n",
      "Epoch 24/100\n",
      "1688/1688 [==============================] - 3s 2ms/step - loss: 0.3335 - accuracy: 0.8802 - val_loss: 0.3403 - val_accuracy: 0.8733\n",
      "Epoch 25/100\n",
      "1688/1688 [==============================] - 3s 2ms/step - loss: 0.3291 - accuracy: 0.8813 - val_loss: 0.3483 - val_accuracy: 0.8737\n",
      "Epoch 26/100\n",
      "1688/1688 [==============================] - 3s 2ms/step - loss: 0.3252 - accuracy: 0.8823 - val_loss: 0.3439 - val_accuracy: 0.8728\n",
      "Epoch 27/100\n",
      "1688/1688 [==============================] - 3s 2ms/step - loss: 0.3222 - accuracy: 0.8833 - val_loss: 0.3437 - val_accuracy: 0.8727\n",
      "Epoch 28/100\n",
      "1688/1688 [==============================] - 3s 2ms/step - loss: 0.3209 - accuracy: 0.8843 - val_loss: 0.3364 - val_accuracy: 0.8763\n",
      "Epoch 29/100\n",
      "1688/1688 [==============================] - 3s 2ms/step - loss: 0.3175 - accuracy: 0.8853 - val_loss: 0.3471 - val_accuracy: 0.8742\n",
      "Epoch 30/100\n",
      "1688/1688 [==============================] - 3s 2ms/step - loss: 0.3146 - accuracy: 0.8864 - val_loss: 0.3386 - val_accuracy: 0.8733\n",
      "Epoch 31/100\n",
      "1688/1688 [==============================] - 3s 2ms/step - loss: 0.3127 - accuracy: 0.8873 - val_loss: 0.3358 - val_accuracy: 0.8788\n",
      "Epoch 32/100\n",
      "1688/1688 [==============================] - 3s 2ms/step - loss: 0.3119 - accuracy: 0.8864 - val_loss: 0.3330 - val_accuracy: 0.8735\n",
      "Epoch 33/100\n",
      "1688/1688 [==============================] - 3s 2ms/step - loss: 0.3098 - accuracy: 0.8883 - val_loss: 0.3420 - val_accuracy: 0.8725\n",
      "Epoch 34/100\n",
      "1688/1688 [==============================] - 3s 2ms/step - loss: 0.3039 - accuracy: 0.8898 - val_loss: 0.3326 - val_accuracy: 0.8772\n",
      "Epoch 35/100\n",
      "1688/1688 [==============================] - 3s 2ms/step - loss: 0.3050 - accuracy: 0.8895 - val_loss: 0.3350 - val_accuracy: 0.8773\n",
      "Epoch 36/100\n",
      "1688/1688 [==============================] - 3s 2ms/step - loss: 0.3006 - accuracy: 0.8907 - val_loss: 0.3408 - val_accuracy: 0.8762\n",
      "Epoch 37/100\n",
      "1688/1688 [==============================] - 3s 2ms/step - loss: 0.2988 - accuracy: 0.8912 - val_loss: 0.3409 - val_accuracy: 0.8750\n",
      "Epoch 38/100\n",
      "1688/1688 [==============================] - 3s 2ms/step - loss: 0.2969 - accuracy: 0.8915 - val_loss: 0.3246 - val_accuracy: 0.8823\n",
      "Epoch 39/100\n",
      "1688/1688 [==============================] - 3s 2ms/step - loss: 0.2948 - accuracy: 0.8931 - val_loss: 0.3320 - val_accuracy: 0.8775\n",
      "Epoch 40/100\n",
      "1688/1688 [==============================] - 3s 2ms/step - loss: 0.2933 - accuracy: 0.8944 - val_loss: 0.3332 - val_accuracy: 0.8787\n",
      "Epoch 41/100\n",
      "1688/1688 [==============================] - 3s 2ms/step - loss: 0.2900 - accuracy: 0.8935 - val_loss: 0.3301 - val_accuracy: 0.8795\n",
      "Epoch 42/100\n",
      "1688/1688 [==============================] - 3s 2ms/step - loss: 0.2899 - accuracy: 0.8938 - val_loss: 0.3310 - val_accuracy: 0.8800\n",
      "Epoch 43/100\n",
      "1688/1688 [==============================] - 3s 2ms/step - loss: 0.2868 - accuracy: 0.8956 - val_loss: 0.3301 - val_accuracy: 0.8773\n",
      "Epoch 44/100\n",
      "1688/1688 [==============================] - 3s 2ms/step - loss: 0.2848 - accuracy: 0.8961 - val_loss: 0.3344 - val_accuracy: 0.8785\n",
      "Epoch 45/100\n",
      "1688/1688 [==============================] - 3s 2ms/step - loss: 0.2821 - accuracy: 0.8985 - val_loss: 0.3288 - val_accuracy: 0.8808\n",
      "Epoch 46/100\n",
      "1688/1688 [==============================] - 3s 2ms/step - loss: 0.2810 - accuracy: 0.8988 - val_loss: 0.3269 - val_accuracy: 0.8798\n",
      "Epoch 47/100\n",
      "1688/1688 [==============================] - 3s 2ms/step - loss: 0.2783 - accuracy: 0.8989 - val_loss: 0.3327 - val_accuracy: 0.8788\n",
      "Epoch 48/100\n",
      "1688/1688 [==============================] - 3s 2ms/step - loss: 0.2796 - accuracy: 0.8971 - val_loss: 0.3344 - val_accuracy: 0.8805\n"
     ]
    }
   ],
   "source": [
    "\n",
    "tf.random.set_seed(42)\n",
    "np.random.seed(42)\n",
    "\n",
    "model = keras.models.Sequential([\n",
    "    keras.layers.Flatten(input_shape=[28, 28]),\n",
    "    keras.layers.Dense(64, activation=\"leaky_relu\",kernel_initializer=\"he_normal\"),\n",
    "    keras.layers.Dense(32, activation=\"leaky_relu\",kernel_initializer=\"he_normal\"),\n",
    "    keras.layers.Dropout(rate=0.2),\n",
    "    keras.layers.Dense(10, activation=\"softmax\")\n",
    "])\n",
    "\n",
    "# Compile model\n",
    "model.compile(loss=categorical_crossentropy, optimizer=SGD(lr=0.001, momentum=0.9),\n",
    "              metrics=['accuracy'])\n",
    "\n",
    "# Train model using Early stop\n",
    "\n",
    "early_stopping = keras.callbacks.EarlyStopping(patience=10)\n",
    "history = model.fit(x_train, y_train, validation_split=0.1,epochs=100, callbacks=early_stopping)\n",
    "\n",
    "\n"
   ]
  },
  {
   "cell_type": "markdown",
   "metadata": {},
   "source": [
    "### Plotting "
   ]
  },
  {
   "cell_type": "code",
   "execution_count": 9,
   "metadata": {},
   "outputs": [
    {
     "name": "stdout",
     "output_type": "stream",
     "text": [
      "Test loss    : 0.35974249243736267\n",
      "Test accuracy: 0.870199978351593\n"
     ]
    },
    {
     "data": {
      "image/png": "[encoded data removed]",
      "text/plain": [
       "<Figure size 576x360 with 1 Axes>"
      ]
     },
     "metadata": {
      "needs_background": "light"
     },
     "output_type": "display_data"
    }
   ],
   "source": [
    "pd.DataFrame(history.history).plot(figsize=(8,5))\n",
    "plt.grid(True)\n",
    "plt.gca().set_ylim(0,1)\n",
    "\n",
    "score = model.evaluate(x_test, y_test, verbose=0)\n",
    "print('Test loss    :', score[0])\n",
    "print('Test accuracy:', score[1])\n"
   ]
  },
  {
   "cell_type": "markdown",
   "metadata": {},
   "source": [
    "### Use nadam optimiser with exponential scheduling for learning rate"
   ]
  },
  {
   "cell_type": "code",
   "execution_count": 10,
   "metadata": {},
   "outputs": [
    {
     "name": "stdout",
     "output_type": "stream",
     "text": [
      "Epoch 1/15\n",
      "1688/1688 [==============================] - 3s 2ms/step - loss: 0.6004 - accuracy: 0.7919 - val_loss: 0.5398 - val_accuracy: 0.8175 - lr: 0.0500\n",
      "Epoch 2/15\n",
      "1688/1688 [==============================] - 3s 2ms/step - loss: 0.4292 - accuracy: 0.8451 - val_loss: 0.4077 - val_accuracy: 0.8553 - lr: 0.0315\n",
      "Epoch 3/15\n",
      "1688/1688 [==============================] - 3s 2ms/step - loss: 0.3737 - accuracy: 0.8624 - val_loss: 0.3624 - val_accuracy: 0.8672 - lr: 0.0199\n",
      "Epoch 4/15\n",
      "1688/1688 [==============================] - 3s 2ms/step - loss: 0.3365 - accuracy: 0.8774 - val_loss: 0.3574 - val_accuracy: 0.8733 - lr: 0.0126\n",
      "Epoch 5/15\n",
      "1688/1688 [==============================] - 3s 2ms/step - loss: 0.3153 - accuracy: 0.8850 - val_loss: 0.3504 - val_accuracy: 0.8707 - lr: 0.0079\n",
      "Epoch 6/15\n",
      "1688/1688 [==============================] - 3s 2ms/step - loss: 0.3009 - accuracy: 0.8888 - val_loss: 0.3424 - val_accuracy: 0.8740 - lr: 0.0050\n",
      "Epoch 7/15\n",
      "1688/1688 [==============================] - 3s 2ms/step - loss: 0.2895 - accuracy: 0.8931 - val_loss: 0.3358 - val_accuracy: 0.8782 - lr: 0.0032\n",
      "Epoch 8/15\n",
      "1688/1688 [==============================] - 3s 2ms/step - loss: 0.2838 - accuracy: 0.8959 - val_loss: 0.3258 - val_accuracy: 0.8800 - lr: 0.0020\n",
      "Epoch 9/15\n",
      "1688/1688 [==============================] - 3s 2ms/step - loss: 0.2802 - accuracy: 0.8966 - val_loss: 0.3243 - val_accuracy: 0.8808 - lr: 0.0013\n",
      "Epoch 10/15\n",
      "1688/1688 [==============================] - 3s 2ms/step - loss: 0.2759 - accuracy: 0.8985 - val_loss: 0.3231 - val_accuracy: 0.8817 - lr: 7.9245e-04\n",
      "Epoch 11/15\n",
      "1688/1688 [==============================] - 3s 2ms/step - loss: 0.2745 - accuracy: 0.8990 - val_loss: 0.3235 - val_accuracy: 0.8813 - lr: 5.0000e-04\n",
      "Epoch 12/15\n",
      "1688/1688 [==============================] - 3s 2ms/step - loss: 0.2729 - accuracy: 0.8988 - val_loss: 0.3223 - val_accuracy: 0.8812 - lr: 3.1548e-04\n",
      "Epoch 13/15\n",
      "1688/1688 [==============================] - 3s 2ms/step - loss: 0.2721 - accuracy: 0.9001 - val_loss: 0.3240 - val_accuracy: 0.8818 - lr: 1.9905e-04\n",
      "Epoch 14/15\n",
      "1688/1688 [==============================] - 3s 2ms/step - loss: 0.2721 - accuracy: 0.9000 - val_loss: 0.3235 - val_accuracy: 0.8825 - lr: 1.2559e-04\n",
      "Epoch 15/15\n",
      "1688/1688 [==============================] - 3s 2ms/step - loss: 0.2712 - accuracy: 0.9002 - val_loss: 0.3242 - val_accuracy: 0.8825 - lr: 7.9245e-05\n"
     ]
    }
   ],
   "source": [
    "def exponential_decay_fn(epoch):\n",
    "    return 0.01 * 0.1**(epoch / 20)\n",
    "def exponential_decay(lr0, s):\n",
    "    def exponential_decay_fn(epoch):\n",
    "        return lr0 * 0.1**(epoch / s)\n",
    "    return exponential_decay_fn\n",
    "\n",
    "exponential_decay_fn = exponential_decay(lr0=0.05, s=5)\n",
    "model1 = keras.models.Sequential([\n",
    "    keras.layers.Flatten(input_shape=[28, 28]),\n",
    "    keras.layers.Dense(64, activation=\"selu\", kernel_initializer=\"lecun_normal\"),\n",
    "    keras.layers.Dense(32, activation=\"selu\", kernel_initializer=\"lecun_normal\"),\n",
    "    keras.layers.Dense(10, activation=\"softmax\")\n",
    "])\n",
    "model1.compile(loss=\"categorical_crossentropy\", optimizer=\"nadam\", metrics=[\"accuracy\"])\n",
    "n_epochs = 15\n",
    "\n",
    "lr_scheduler = keras.callbacks.LearningRateScheduler(exponential_decay_fn)\n",
    "pixel_means = x_train.mean(axis=0, keepdims=True)\n",
    "pixel_stds = x_train.std(axis=0, keepdims=True)\n",
    "x_train_scaled = (x_train - pixel_means) / pixel_stds\n",
    "history = model.fit(x_train, y_train, epochs=n_epochs,\n",
    "                    validation_split=0.1,\n",
    "                    callbacks=[lr_scheduler])"
   ]
  },
  {
   "cell_type": "markdown",
   "metadata": {},
   "source": [
    "### Plotting"
   ]
  },
  {
   "cell_type": "code",
   "execution_count": 11,
   "metadata": {},
   "outputs": [
    {
     "data": {
      "image/png": "[encoded data removed]",
      "text/plain": [
       "<Figure size 432x288 with 1 Axes>"
      ]
     },
     "metadata": {
      "needs_background": "light"
     },
     "output_type": "display_data"
    }
   ],
   "source": [
    "plt.figure()\n",
    "plt.plot(history.epoch, history.history[\"lr\"], \"o-\")\n",
    "plt.axis([0, n_epochs - 1, 0, 0.2])\n",
    "plt.xlabel(\"Epoch\")\n",
    "plt.ylabel(\"Learning Rate\")\n",
    "plt.title(\"Exponential Scheduling\", fontsize=14)\n",
    "plt.grid(True)\n",
    "plt.show()"
   ]
  },
  {
   "cell_type": "markdown",
   "metadata": {},
   "source": [
    "## Transfer learning"
   ]
  },
  {
   "cell_type": "markdown",
   "metadata": {},
   "source": [
    "Split the fashion MNIST training set into 2 datasets:\n",
    "- X_train_A: all images of all items for sandals and shirts (classes 5 and 6)\n",
    "- X_train_B: the first 200 images of sandals and shirts"
   ]
  },
  {
   "cell_type": "code",
   "execution_count": 12,
   "metadata": {},
   "outputs": [],
   "source": [
    "(x_train, y_train), (x_test, y_test) = fashion_mnist.load_data()\n",
    "def split_dataset(X, y):\n",
    "    y_5_or_6 = (y == 5) | (y == 6) # sandals or shirts\n",
    "    y_A = y[~y_5_or_6]\n",
    "    y_A[y_A > 6] -= 2 # class indices 7, 8, 9 should now become 5, 6, 7\n",
    "    y_B = (y[y_5_or_6] == 6).astype(np.float32) # binary classification task: is it a shirt (class 6)?\n",
    "    return ((X[~y_5_or_6], y_A),\n",
    "            (X[y_5_or_6], y_B))\n",
    "\n",
    "# Normalise data\n",
    "\n",
    "(Xtrain_A, ytrain_A), (Xtrain_B, ytrain_B) = split_dataset(x_train/255, y_train)\n",
    "(Xtest_A, ytest_A), (Xtest_B, ytest_B) = split_dataset(x_test/255, y_test)\n",
    "Xtrain_B = Xtrain_B[:200]\n",
    "ytrain_B = ytrain_B[:200]\n",
    "\n",
    "\n"
   ]
  },
  {
   "cell_type": "markdown",
   "metadata": {},
   "source": [
    "### Train model A\n",
    "MLP has 5 hidden layers:\n",
    " - first hidden layer has 300 neurons\n",
    " - second hidden layers had 100 neurons\n",
    " - the last three contains 50 neurons"
   ]
  },
  {
   "cell_type": "code",
   "execution_count": 13,
   "metadata": {},
   "outputs": [
    {
     "name": "stdout",
     "output_type": "stream",
     "text": [
      "Epoch 1/10\n"
     ]
    },
    {
     "name": "stderr",
     "output_type": "stream",
     "text": [
      "/home/tri083/Dropbox/TEACHING/MA3832/SP2_2022/Practicals/Code/env/lib/python3.8/site-packages/keras/optimizers/optimizer_v2/gradient_descent.py:108: UserWarning: The `lr` argument is deprecated, use `learning_rate` instead.\n",
      "  super(SGD, self).__init__(name, **kwargs)\n"
     ]
    },
    {
     "name": "stdout",
     "output_type": "stream",
     "text": [
      "1350/1350 [==============================] - 5s 4ms/step - loss: 0.5849 - accuracy: 0.8100 - val_loss: 0.3856 - val_accuracy: 0.8654\n",
      "Epoch 2/10\n",
      "1350/1350 [==============================] - 5s 4ms/step - loss: 0.3546 - accuracy: 0.8777 - val_loss: 0.3363 - val_accuracy: 0.8813\n",
      "Epoch 3/10\n",
      "1350/1350 [==============================] - 5s 4ms/step - loss: 0.3177 - accuracy: 0.8902 - val_loss: 0.3082 - val_accuracy: 0.8906\n",
      "Epoch 4/10\n",
      "1350/1350 [==============================] - 5s 4ms/step - loss: 0.2991 - accuracy: 0.8966 - val_loss: 0.2928 - val_accuracy: 0.8940\n",
      "Epoch 5/10\n",
      "1350/1350 [==============================] - 5s 4ms/step - loss: 0.2860 - accuracy: 0.9010 - val_loss: 0.2814 - val_accuracy: 0.8969\n",
      "Epoch 6/10\n",
      "1350/1350 [==============================] - 6s 4ms/step - loss: 0.2759 - accuracy: 0.9054 - val_loss: 0.2732 - val_accuracy: 0.9010\n",
      "Epoch 7/10\n",
      "1350/1350 [==============================] - 5s 4ms/step - loss: 0.2680 - accuracy: 0.9083 - val_loss: 0.2704 - val_accuracy: 0.9050\n",
      "Epoch 8/10\n",
      "1350/1350 [==============================] - 5s 4ms/step - loss: 0.2608 - accuracy: 0.9107 - val_loss: 0.2700 - val_accuracy: 0.9031\n",
      "Epoch 9/10\n",
      "1350/1350 [==============================] - 5s 4ms/step - loss: 0.2549 - accuracy: 0.9132 - val_loss: 0.2553 - val_accuracy: 0.9079\n",
      "Epoch 10/10\n",
      "1350/1350 [==============================] - 5s 4ms/step - loss: 0.2498 - accuracy: 0.9148 - val_loss: 0.2547 - val_accuracy: 0.9094\n"
     ]
    }
   ],
   "source": [
    "# Train model\n",
    "tf.random.set_seed(12)\n",
    "np.random.seed(12)\n",
    "modelA = keras.models.Sequential()\n",
    "modelA.add(keras.layers.Flatten(input_shape=[28, 28]))\n",
    "for n_hidden in (300, 100, 50, 50, 50):\n",
    "    modelA.add(keras.layers.Dense(n_hidden, activation=\"selu\"))\n",
    "modelA.add(keras.layers.Dense(8, activation=\"softmax\"))\n",
    "\n",
    "modelA.compile(loss=\"sparse_categorical_crossentropy\",\n",
    "                optimizer=keras.optimizers.SGD(lr=1e-3),\n",
    "                metrics=[\"accuracy\"])\n",
    "history = modelA.fit(Xtrain_A, ytrain_A, epochs=10,\n",
    "                    validation_split=0.1)\n",
    "\n",
    "\n",
    "# Save model\n",
    "\n",
    "modelA.save(\"model_A.h5\")"
   ]
  },
  {
   "cell_type": "markdown",
   "metadata": {},
   "source": [
    "### Load the model A and obtain the weights from model A to fit model B"
   ]
  },
  {
   "cell_type": "code",
   "execution_count": 19,
   "metadata": {},
   "outputs": [],
   "source": [
    "# Load model A\n",
    "\n",
    "modelA = keras.models.load_model(\"model_A.h5\")\n",
    "\n",
    "# Clone Model A to avoid weights in model A changing while training model B\n",
    "modelA_clone = keras.models.clone_model(modelA)\n",
    "modelA_clone.set_weights(modelA.get_weights())\n",
    "\n",
    "modelB = keras.models.Sequential(modelA_clone.layers[:-1]) # keep all hidden layers \n",
    "                                                           # except the last output hiddien layers\n",
    "modelB.add(keras.layers.Dense(1, activation=\"sigmoid\"))\n",
    "\n"
   ]
  },
  {
   "cell_type": "markdown",
   "metadata": {},
   "source": [
    "### Resuse hidden layers of Model A for dataset A to classify sandals and shirts in dataset B"
   ]
  },
  {
   "cell_type": "code",
   "execution_count": 20,
   "metadata": {},
   "outputs": [
    {
     "name": "stdout",
     "output_type": "stream",
     "text": [
      "Epoch 1/4\n",
      "6/6 [==============================] - 0s 20ms/step - loss: 1.0615 - accuracy: 0.3722 - val_loss: 1.2828 - val_accuracy: 0.1500\n",
      "Epoch 2/4\n",
      "6/6 [==============================] - 0s 4ms/step - loss: 0.9953 - accuracy: 0.3944 - val_loss: 1.2130 - val_accuracy: 0.1500\n",
      "Epoch 3/4\n",
      "6/6 [==============================] - 0s 6ms/step - loss: 0.9353 - accuracy: 0.4500 - val_loss: 1.1473 - val_accuracy: 0.2000\n",
      "Epoch 4/4\n",
      "6/6 [==============================] - 0s 5ms/step - loss: 0.8795 - accuracy: 0.4833 - val_loss: 1.0871 - val_accuracy: 0.2000\n"
     ]
    }
   ],
   "source": [
    "# To avoid the large error in computing gradients for the new output layers,\n",
    "# we first freeze the reused layers in ModelA during the first epochs, and then\n",
    "# unfreeze the reused layers later  \n",
    "for layer in modelB.layers[:-1]:\n",
    "    layer.trainable = False\n",
    "\n",
    "modelB.compile(loss=\"binary_crossentropy\",\n",
    "                     optimizer=keras.optimizers.SGD(lr=1e-3),\n",
    "                     metrics=[\"accuracy\"])\n",
    "\n",
    "\n",
    "history = modelB.fit(Xtrain_B, ytrain_B, epochs=4,\n",
    "                           validation_split=0.1)\n",
    "\n"
   ]
  },
  {
   "cell_type": "code",
   "execution_count": 21,
   "metadata": {},
   "outputs": [
    {
     "name": "stdout",
     "output_type": "stream",
     "text": [
      "Epoch 1/10\n",
      "6/6 [==============================] - 0s 19ms/step - loss: 0.7268 - accuracy: 0.5444 - val_loss: 0.7066 - val_accuracy: 0.5000\n",
      "Epoch 2/10\n",
      "6/6 [==============================] - 0s 5ms/step - loss: 0.4921 - accuracy: 0.7833 - val_loss: 0.5272 - val_accuracy: 0.8000\n",
      "Epoch 3/10\n",
      "6/6 [==============================] - 0s 6ms/step - loss: 0.3717 - accuracy: 0.8611 - val_loss: 0.4278 - val_accuracy: 0.8500\n",
      "Epoch 4/10\n",
      "6/6 [==============================] - 0s 6ms/step - loss: 0.2967 - accuracy: 0.9222 - val_loss: 0.3717 - val_accuracy: 0.9000\n",
      "Epoch 5/10\n",
      "6/6 [==============================] - 0s 8ms/step - loss: 0.2477 - accuracy: 0.9333 - val_loss: 0.3368 - val_accuracy: 0.9000\n",
      "Epoch 6/10\n",
      "6/6 [==============================] - 0s 6ms/step - loss: 0.2131 - accuracy: 0.9444 - val_loss: 0.3147 - val_accuracy: 0.9000\n",
      "Epoch 7/10\n",
      "6/6 [==============================] - 0s 6ms/step - loss: 0.1873 - accuracy: 0.9444 - val_loss: 0.2970 - val_accuracy: 0.9000\n",
      "Epoch 8/10\n",
      "6/6 [==============================] - 0s 7ms/step - loss: 0.1670 - accuracy: 0.9444 - val_loss: 0.2856 - val_accuracy: 0.9000\n",
      "Epoch 9/10\n",
      "6/6 [==============================] - 0s 6ms/step - loss: 0.1513 - accuracy: 0.9667 - val_loss: 0.2763 - val_accuracy: 0.9000\n",
      "Epoch 10/10\n",
      "6/6 [==============================] - 0s 6ms/step - loss: 0.1383 - accuracy: 0.9667 - val_loss: 0.2679 - val_accuracy: 0.9000\n",
      "63/63 [==============================] - 0s 2ms/step - loss: 0.1320 - accuracy: 0.9750\n"
     ]
    },
    {
     "data": {
      "text/plain": [
       "[0.13196609914302826, 0.9750000238418579]"
      ]
     },
     "execution_count": 21,
     "metadata": {},
     "output_type": "execute_result"
    }
   ],
   "source": [
    "\n",
    "\n",
    "# unfrezee the resused layers of ModelA\n",
    "\n",
    "for layer in modelB.layers[:-1]:\n",
    "    layer.trainable = True\n",
    "\n",
    "modelB.compile(loss=\"binary_crossentropy\",\n",
    "                     optimizer=keras.optimizers.SGD(lr=1e-3),\n",
    "                     metrics=[\"accuracy\"])\n",
    "history = modelB.fit(Xtrain_B, ytrain_B, epochs=10,\n",
    "                           validation_split=0.1)\n",
    "\n",
    "modelB.evaluate(Xtest_B, ytest_B) "
   ]
  }
 ],
 "metadata": {
  "kernelspec": {
   "display_name": "Python 3.8.10 ('env': venv)",
   "language": "python",
   "name": "python3"
  },
  "language_info": {
   "codemirror_mode": {
    "name": "ipython",
    "version": 3
   },
   "file_extension": ".py",
   "mimetype": "text/x-python",
   "name": "python",
   "nbconvert_exporter": "python",
   "pygments_lexer": "ipython3",
   "version": "3.8.10"
  },
  "orig_nbformat": 4,
  "vscode": {
   "interpreter": {
    "hash": "9e61ec9e8dd25c55bbd6bbcf3efd8706b50ba5dcae84dfc53439ab1c536f07b5"
   }
  }
 },
 "nbformat": 4,
 "nbformat_minor": 2
}
