{
 "cells": [
  {
   "cell_type": "markdown",
   "metadata": {},
   "source": [
    "# LSTM \n",
    "\n",
    "### GDP forecast"
   ]
  },
  {
   "cell_type": "code",
   "execution_count": 1,
   "metadata": {},
   "outputs": [
    {
     "name": "stderr",
     "output_type": "stream",
     "text": [
      "2022-09-01 16:07:24.080668: I tensorflow/core/util/util.cc:169] oneDNN custom operations are on. You may see slightly different numerical results due to floating-point round-off errors from different computation orders. To turn them off, set the environment variable `TF_ENABLE_ONEDNN_OPTS=0`.\n",
      "2022-09-01 16:07:24.085141: W tensorflow/stream_executor/platform/default/dso_loader.cc:64] Could not load dynamic library 'libcudart.so.11.0'; dlerror: libcudart.so.11.0: cannot open shared object file: No such file or directory\n",
      "2022-09-01 16:07:24.085158: I tensorflow/stream_executor/cuda/cudart_stub.cc:29] Ignore above cudart dlerror if you do not have a GPU set up on your machine.\n"
     ]
    }
   ],
   "source": [
    "from numpy import array\n",
    "import pandas as pd\n",
    "import numpy as np\n",
    "import matplotlib.pyplot as plt\n",
    "import tensorflow as tf\n",
    "from tensorflow import keras\n",
    "import math\n",
    "from sklearn.preprocessing import RobustScaler\n",
    "from sklearn.preprocessing import MinMaxScaler\n",
    "from sklearn.metrics import mean_squared_error\n"
   ]
  },
  {
   "cell_type": "code",
   "execution_count": 2,
   "metadata": {},
   "outputs": [
    {
     "data": {
      "image/png": "[encoded data removed]",
      "text/plain": [
       "<Figure size 432x288 with 1 Axes>"
      ]
     },
     "metadata": {
      "needs_background": "light"
     },
     "output_type": "display_data"
    }
   ],
   "source": [
    "\n",
    "data = pd.read_csv(\"AUD.csv\", \n",
    "                    parse_dates=[\"Period\"],\n",
    "                    index_col=\"Period\")\n",
    "\n",
    "#covert arguments to datatime\n",
    "data.loc[:,'GDP'].plot(label='Observed', color='tab:blue')\n",
    "plt.title('GDP of Australia from 1959 to 2018')\n",
    "plt.show()"
   ]
  },
  {
   "cell_type": "markdown",
   "metadata": {},
   "source": [
    "Obtaining the Robust Scale factor from training data"
   ]
  },
  {
   "cell_type": "code",
   "execution_count": 3,
   "metadata": {},
   "outputs": [
    {
     "name": "stdout",
     "output_type": "stream",
     "text": [
      "191\n"
     ]
    }
   ],
   "source": [
    "# Split data\n",
    "\n",
    "train_size = int(len(data) * 0.8)\n",
    "train = data[0:train_size]\n",
    "print(len(train))\n",
    "\n",
    "data1 = data.dropna()\n",
    "# normalize the dataset\n",
    "GDP_scaler = RobustScaler()\n",
    "GDP_scaler = GDP_scaler.fit(train[['GDP']])\n",
    "\n",
    "data1['GDP'] = GDP_scaler.transform(data1[['GDP']])"
   ]
  },
  {
   "cell_type": "markdown",
   "metadata": {},
   "source": [
    "We need to create the dataset to feed in LSTM."
   ]
  },
  {
   "cell_type": "code",
   "execution_count": 4,
   "metadata": {},
   "outputs": [],
   "source": [
    "def create_dataset(X,y,time_steps):\n",
    "    Xs, ys = [],[]\n",
    "    for i in range(len(X)-time_steps):\n",
    "        v = X.iloc[i:(i+time_steps)].values\n",
    "        Xs.append(v)\n",
    "        ys.append(y.iloc[i+time_steps])\n",
    "    return np.array(Xs), np.array(ys)"
   ]
  },
  {
   "cell_type": "code",
   "execution_count": 5,
   "metadata": {},
   "outputs": [
    {
     "name": "stdout",
     "output_type": "stream",
     "text": [
      "(189, 2, 1) (189,)\n",
      "(48, 2, 1) (48,)\n"
     ]
    }
   ],
   "source": [
    "time_steps = 2\n",
    "X, y = create_dataset(data1, data1['GDP'], time_steps)\n",
    "X_train, X_test = X[0:train_size-time_steps,:,:], X[train_size-time_steps:,:,:]\n",
    "y_train, y_test = y[0:train_size-time_steps], y[train_size-time_steps:]\n",
    "\n",
    "print(X_train.shape, y_train.shape)\n",
    "print(X_test.shape, y_test.shape)"
   ]
  },
  {
   "cell_type": "markdown",
   "metadata": {},
   "source": [
    "#### Building a LSTM model for GDP"
   ]
  },
  {
   "cell_type": "code",
   "execution_count": 6,
   "metadata": {},
   "outputs": [
    {
     "name": "stdout",
     "output_type": "stream",
     "text": [
      "Epoch 1/100\n"
     ]
    },
    {
     "name": "stderr",
     "output_type": "stream",
     "text": [
      "2022-09-01 16:07:54.133128: W tensorflow/stream_executor/platform/default/dso_loader.cc:64] Could not load dynamic library 'libcuda.so.1'; dlerror: libcuda.so.1: cannot open shared object file: No such file or directory\n",
      "2022-09-01 16:07:54.133152: W tensorflow/stream_executor/cuda/cuda_driver.cc:269] failed call to cuInit: UNKNOWN ERROR (303)\n",
      "2022-09-01 16:07:54.133170: I tensorflow/stream_executor/cuda/cuda_diagnostics.cc:156] kernel driver does not appear to be running on this host (valid-cl): /proc/driver/nvidia/version does not exist\n",
      "2022-09-01 16:07:54.133399: I tensorflow/core/platform/cpu_feature_guard.cc:193] This TensorFlow binary is optimized with oneAPI Deep Neural Network Library (oneDNN) to use the following CPU instructions in performance-critical operations:  AVX2 AVX_VNNI FMA\n",
      "To enable them in other operations, rebuild TensorFlow with the appropriate compiler flags.\n"
     ]
    },
    {
     "name": "stdout",
     "output_type": "stream",
     "text": [
      "6/6 [==============================] - 2s 118ms/step - loss: 0.3320 - val_loss: 2.3251\n",
      "Epoch 2/100\n",
      "6/6 [==============================] - 0s 8ms/step - loss: 0.3191 - val_loss: 2.2587\n",
      "Epoch 3/100\n",
      "6/6 [==============================] - 0s 7ms/step - loss: 0.3100 - val_loss: 2.1867\n",
      "Epoch 4/100\n",
      "6/6 [==============================] - 0s 9ms/step - loss: 0.3010 - val_loss: 2.1107\n",
      "Epoch 5/100\n",
      "6/6 [==============================] - 0s 9ms/step - loss: 0.2916 - val_loss: 2.0297\n",
      "Epoch 6/100\n",
      "6/6 [==============================] - 0s 10ms/step - loss: 0.2817 - val_loss: 1.9421\n",
      "Epoch 7/100\n",
      "6/6 [==============================] - 0s 11ms/step - loss: 0.2709 - val_loss: 1.8460\n",
      "Epoch 8/100\n",
      "6/6 [==============================] - 0s 9ms/step - loss: 0.2591 - val_loss: 1.7397\n",
      "Epoch 9/100\n",
      "6/6 [==============================] - 0s 7ms/step - loss: 0.2461 - val_loss: 1.6214\n",
      "Epoch 10/100\n",
      "6/6 [==============================] - 0s 9ms/step - loss: 0.2316 - val_loss: 1.4898\n",
      "Epoch 11/100\n",
      "6/6 [==============================] - 0s 9ms/step - loss: 0.2157 - val_loss: 1.3445\n",
      "Epoch 12/100\n",
      "6/6 [==============================] - 0s 8ms/step - loss: 0.1984 - val_loss: 1.1859\n",
      "Epoch 13/100\n",
      "6/6 [==============================] - 0s 9ms/step - loss: 0.1798 - val_loss: 1.0158\n",
      "Epoch 14/100\n",
      "6/6 [==============================] - 0s 10ms/step - loss: 0.1603 - val_loss: 0.8381\n",
      "Epoch 15/100\n",
      "6/6 [==============================] - 0s 9ms/step - loss: 0.1402 - val_loss: 0.6588\n",
      "Epoch 16/100\n",
      "6/6 [==============================] - 0s 8ms/step - loss: 0.1204 - val_loss: 0.4863\n",
      "Epoch 17/100\n",
      "6/6 [==============================] - 0s 8ms/step - loss: 0.1016 - val_loss: 0.3306\n",
      "Epoch 18/100\n",
      "6/6 [==============================] - 0s 8ms/step - loss: 0.0848 - val_loss: 0.2016\n",
      "Epoch 19/100\n",
      "6/6 [==============================] - 0s 8ms/step - loss: 0.0705 - val_loss: 0.1065\n",
      "Epoch 20/100\n",
      "6/6 [==============================] - 0s 8ms/step - loss: 0.0588 - val_loss: 0.0466\n",
      "Epoch 21/100\n",
      "6/6 [==============================] - 0s 9ms/step - loss: 0.0493 - val_loss: 0.0161\n",
      "Epoch 22/100\n",
      "6/6 [==============================] - 0s 8ms/step - loss: 0.0412 - val_loss: 0.0043\n",
      "Epoch 23/100\n",
      "6/6 [==============================] - 0s 8ms/step - loss: 0.0338 - val_loss: 0.0012\n",
      "Epoch 24/100\n",
      "6/6 [==============================] - 0s 9ms/step - loss: 0.0271 - val_loss: 7.2623e-04\n",
      "Epoch 25/100\n",
      "6/6 [==============================] - 0s 7ms/step - loss: 0.0213 - val_loss: 6.7140e-04\n",
      "Epoch 26/100\n",
      "6/6 [==============================] - 0s 7ms/step - loss: 0.0167 - val_loss: 7.1964e-04\n",
      "Epoch 27/100\n",
      "6/6 [==============================] - 0s 9ms/step - loss: 0.0131 - val_loss: 8.0078e-04\n",
      "Epoch 28/100\n",
      "6/6 [==============================] - 0s 10ms/step - loss: 0.0104 - val_loss: 8.3533e-04\n",
      "Epoch 29/100\n",
      "6/6 [==============================] - 0s 7ms/step - loss: 0.0084 - val_loss: 8.0455e-04\n",
      "Epoch 30/100\n",
      "6/6 [==============================] - 0s 6ms/step - loss: 0.0069 - val_loss: 7.5218e-04\n",
      "Epoch 31/100\n",
      "6/6 [==============================] - 0s 8ms/step - loss: 0.0058 - val_loss: 7.2254e-04\n",
      "Epoch 32/100\n",
      "6/6 [==============================] - 0s 8ms/step - loss: 0.0050 - val_loss: 7.2926e-04\n",
      "Epoch 33/100\n",
      "6/6 [==============================] - 0s 9ms/step - loss: 0.0044 - val_loss: 7.6950e-04\n",
      "Epoch 34/100\n",
      "6/6 [==============================] - 0s 7ms/step - loss: 0.0039 - val_loss: 8.4603e-04\n",
      "Epoch 35/100\n",
      "6/6 [==============================] - 0s 8ms/step - loss: 0.0036 - val_loss: 9.7140e-04\n"
     ]
    }
   ],
   "source": [
    "# Building a model\n",
    "np.random.seed(42)\n",
    "tf.random.set_seed(42)\n",
    "model = keras.models.Sequential([\n",
    "    keras.layers.LSTM(20, activation='tanh',recurrent_activation='sigmoid', return_sequences=True),\n",
    "     # By default, LSTM layers in Keras only returns the final output. To ensure\n",
    "     # them return one output per time step, you must set  return_sequence=True.\n",
    "     # This is to ensure output is 3D dimension\n",
    "    keras.layers.LSTM(20, activation='tanh',recurrent_activation='sigmoid'),\n",
    "    keras.layers.Dense(1)\n",
    "])\n",
    "model.compile(loss='mean_squared_error', optimizer='adam')\n",
    "history = model.fit(X_train, y_train, \n",
    "epochs=100, validation_split=0.1, \n",
    "callbacks=keras.callbacks.EarlyStopping(patience=10),\n",
    "shuffle=False)\n"
   ]
  },
  {
   "cell_type": "code",
   "execution_count": 7,
   "metadata": {},
   "outputs": [
    {
     "data": {
      "image/png": "[encoded data removed]",
      "text/plain": [
       "<Figure size 432x288 with 1 Axes>"
      ]
     },
     "metadata": {
      "needs_background": "light"
     },
     "output_type": "display_data"
    }
   ],
   "source": [
    "plt.plot(history.history['loss'], label='train')\n",
    "plt.plot(history.history['val_loss'], label='test')\n",
    "plt.legend();\n"
   ]
  },
  {
   "cell_type": "markdown",
   "metadata": {},
   "source": [
    "#### Prediction"
   ]
  },
  {
   "cell_type": "code",
   "execution_count": 8,
   "metadata": {},
   "outputs": [
    {
     "name": "stdout",
     "output_type": "stream",
     "text": [
      "2/2 [==============================] - 0s 3ms/step\n"
     ]
    }
   ],
   "source": [
    "# making prediction\n",
    "y_pred = model.predict(X_test)\n",
    "\n",
    "# inverting predictions\n",
    "\n",
    "y_train_inv = GDP_scaler.inverse_transform(y_train.reshape(1, -1)) #transforming y_train to column vector\n",
    "y_test_inv = GDP_scaler.inverse_transform(y_test.reshape(1, -1))\n",
    "y_pred_inv = GDP_scaler.inverse_transform(y_pred.reshape(1,-1))"
   ]
  },
  {
   "cell_type": "code",
   "execution_count": 9,
   "metadata": {},
   "outputs": [
    {
     "data": {
      "image/png": "[encoded data removed]",
      "text/plain": [
       "<Figure size 432x288 with 1 Axes>"
      ]
     },
     "metadata": {
      "needs_background": "light"
     },
     "output_type": "display_data"
    }
   ],
   "source": [
    "# plotting\n",
    "\n",
    "plt.plot(np.arange(0, len(y_train)), y_train_inv.flatten(), 'g', label=\"history\")\n",
    "plt.plot(np.arange(len(y_train), len(y_train) + len(y_test)), y_test_inv.flatten(), 'b', label=\"true\")\n",
    "plt.plot(np.arange(len(y_train), len(y_train) + len(y_test)), y_pred_inv.flatten(), 'r', label=\"prediction\")\n",
    "plt.ylabel('GDP')\n",
    "plt.xlabel('Period')\n",
    "plt.legend()\n",
    "plt.show();\n"
   ]
  },
  {
   "cell_type": "markdown",
   "metadata": {},
   "source": [
    " Calculating Root Mean squared errors"
   ]
  },
  {
   "cell_type": "code",
   "execution_count": 10,
   "metadata": {},
   "outputs": [
    {
     "name": "stdout",
     "output_type": "stream",
     "text": [
      "Score: 37500.64 RMSE\n"
     ]
    }
   ],
   "source": [
    "# calculate root mean squared error\n",
    "RMSE = math.sqrt(mean_squared_error(y_test_inv, y_pred_inv))\n",
    "print('Score: %.2f RMSE' % (RMSE))"
   ]
  },
  {
   "cell_type": "markdown",
   "metadata": {},
   "source": [
    "### Recursive forecast"
   ]
  },
  {
   "cell_type": "code",
   "execution_count": 11,
   "metadata": {},
   "outputs": [],
   "source": [
    "\n",
    "# Recursive forecast\n",
    "\n",
    "def recursive_forecasts(model, testY, trainX):\n",
    "    forecasts = list()\n",
    "    for i in range(len(testY)):\n",
    "        X = trainX[-1:,:]\n",
    "        forecast = model.predict(X)\n",
    "        # Update training data using the latest prediction\n",
    "        temp= np.append(forecast.flatten(),trainX[-1:,0:-1].flatten())\n",
    "        temp1 = np.append(np.squeeze(trainX),np.reshape(temp,[1,trainX.shape[1]]),axis=0)\n",
    "        trainX = np.reshape(temp1,[trainX.shape[0]+1,trainX.shape[1],1])\n",
    "        forecasts.append(forecast)\n",
    "    return np.array(forecasts)"
   ]
  },
  {
   "cell_type": "code",
   "execution_count": 12,
   "metadata": {},
   "outputs": [
    {
     "name": "stdout",
     "output_type": "stream",
     "text": [
      "1/1 [==============================] - 0s 11ms/step\n",
      "1/1 [==============================] - 0s 13ms/step\n",
      "1/1 [==============================] - 0s 19ms/step\n",
      "1/1 [==============================] - 0s 11ms/step\n",
      "1/1 [==============================] - 0s 12ms/step\n",
      "1/1 [==============================] - 0s 13ms/step\n",
      "1/1 [==============================] - 0s 15ms/step\n",
      "1/1 [==============================] - 0s 13ms/step\n",
      "1/1 [==============================] - 0s 12ms/step\n",
      "1/1 [==============================] - 0s 12ms/step\n",
      "1/1 [==============================] - 0s 13ms/step\n",
      "1/1 [==============================] - 0s 12ms/step\n",
      "1/1 [==============================] - 0s 12ms/step\n",
      "1/1 [==============================] - 0s 12ms/step\n",
      "1/1 [==============================] - 0s 18ms/step\n",
      "1/1 [==============================] - 0s 18ms/step\n",
      "1/1 [==============================] - 0s 12ms/step\n",
      "1/1 [==============================] - 0s 13ms/step\n",
      "1/1 [==============================] - 0s 13ms/step\n",
      "1/1 [==============================] - 0s 20ms/step\n",
      "1/1 [==============================] - 0s 13ms/step\n",
      "1/1 [==============================] - 0s 12ms/step\n",
      "1/1 [==============================] - 0s 13ms/step\n",
      "1/1 [==============================] - 0s 17ms/step\n",
      "1/1 [==============================] - 0s 12ms/step\n",
      "1/1 [==============================] - 0s 12ms/step\n",
      "1/1 [==============================] - 0s 12ms/step\n",
      "1/1 [==============================] - 0s 18ms/step\n",
      "1/1 [==============================] - 0s 20ms/step\n",
      "1/1 [==============================] - 0s 18ms/step\n",
      "1/1 [==============================] - 0s 14ms/step\n",
      "1/1 [==============================] - 0s 13ms/step\n",
      "1/1 [==============================] - 0s 20ms/step\n",
      "1/1 [==============================] - 0s 19ms/step\n",
      "1/1 [==============================] - 0s 13ms/step\n",
      "1/1 [==============================] - 0s 12ms/step\n",
      "1/1 [==============================] - 0s 14ms/step\n",
      "1/1 [==============================] - 0s 18ms/step\n",
      "1/1 [==============================] - 0s 13ms/step\n",
      "1/1 [==============================] - 0s 12ms/step\n",
      "1/1 [==============================] - 0s 11ms/step\n",
      "1/1 [==============================] - 0s 14ms/step\n",
      "1/1 [==============================] - 0s 13ms/step\n",
      "1/1 [==============================] - 0s 18ms/step\n",
      "1/1 [==============================] - 0s 11ms/step\n",
      "1/1 [==============================] - 0s 12ms/step\n",
      "1/1 [==============================] - 0s 17ms/step\n",
      "1/1 [==============================] - 0s 13ms/step\n"
     ]
    }
   ],
   "source": [
    "y_recursive = recursive_forecasts(model,y_test,X_train)\n"
   ]
  },
  {
   "cell_type": "code",
   "execution_count": 13,
   "metadata": {},
   "outputs": [
    {
     "data": {
      "image/png": "[encoded data removed]",
      "text/plain": [
       "<Figure size 432x288 with 1 Axes>"
      ]
     },
     "metadata": {
      "needs_background": "light"
     },
     "output_type": "display_data"
    }
   ],
   "source": [
    "y_recursive_inv = GDP_scaler.inverse_transform(y_recursive.reshape(1,-1))\n",
    "# plotting\n",
    "\n",
    "plt.plot(np.arange(0, len(y_train)), y_train_inv.flatten(), 'g', label=\"history\")\n",
    "plt.plot(np.arange(len(y_train), len(y_train) + len(y_test)), y_test_inv.flatten(), 'b', label=\"true\")\n",
    "plt.plot(np.arange(len(y_train), len(y_train) + len(y_test)), y_pred_inv.flatten(), 'r', label=\"prediction\")\n",
    "plt.ylabel('GDP')\n",
    "plt.xlabel('Period')\n",
    "plt.legend()\n",
    "plt.show();"
   ]
  },
  {
   "cell_type": "markdown",
   "metadata": {},
   "source": [
    "#### Building LSTM for $\\Delta GDP$"
   ]
  },
  {
   "cell_type": "code",
   "execution_count": 14,
   "metadata": {},
   "outputs": [],
   "source": [
    "data['GDP_diff']= data['GDP'].diff()\n",
    "data1 = data.dropna()"
   ]
  },
  {
   "cell_type": "code",
   "execution_count": 15,
   "metadata": {},
   "outputs": [
    {
     "name": "stdout",
     "output_type": "stream",
     "text": [
      "190\n"
     ]
    },
    {
     "name": "stderr",
     "output_type": "stream",
     "text": [
      "/tmp/ipykernel_325975/2920899813.py:8: SettingWithCopyWarning: \n",
      "A value is trying to be set on a copy of a slice from a DataFrame.\n",
      "Try using .loc[row_indexer,col_indexer] = value instead\n",
      "\n",
      "See the caveats in the documentation: https://pandas.pydata.org/pandas-docs/stable/user_guide/indexing.html#returning-a-view-versus-a-copy\n",
      "  data1['GDP_diff'] = GDP_diff_scaler.transform(data1[['GDP_diff']])\n"
     ]
    }
   ],
   "source": [
    "# Split data\n",
    "train = data1.iloc[0:train_size-1]\n",
    "print(len(train))\n",
    "\n",
    "\n",
    "## normalize the dataset\n",
    "GDP_diff_scaler = RobustScaler()\n",
    "GDP_diff_scaler = GDP_diff_scaler.fit(train[['GDP_diff']])\n",
    "\n",
    "data1['GDP_diff'] = GDP_diff_scaler.transform(data1[['GDP_diff']])"
   ]
  },
  {
   "cell_type": "code",
   "execution_count": 16,
   "metadata": {},
   "outputs": [
    {
     "name": "stdout",
     "output_type": "stream",
     "text": [
      "188 48\n"
     ]
    }
   ],
   "source": [
    "time_steps = 2\n",
    "X,y = create_dataset(data1[['GDP_diff']], data1.GDP_diff, time_steps)\n",
    "X_train, X_test = X[0:train_size-time_steps-1,:,:], X[train_size-time_steps-1:,:,:]\n",
    "y_train, y_test = y[0:train_size-time_steps-1], y[train_size-time_steps-1:]\n",
    "print(len(X_train),len(X_test))"
   ]
  },
  {
   "cell_type": "code",
   "execution_count": 17,
   "metadata": {},
   "outputs": [
    {
     "name": "stdout",
     "output_type": "stream",
     "text": [
      "Epoch 1/100\n",
      "6/6 [==============================] - 2s 89ms/step - loss: 0.5217 - val_loss: 1.1978\n",
      "Epoch 2/100\n",
      "6/6 [==============================] - 0s 7ms/step - loss: 0.5088 - val_loss: 1.1739\n",
      "Epoch 3/100\n",
      "6/6 [==============================] - 0s 7ms/step - loss: 0.4985 - val_loss: 1.1471\n",
      "Epoch 4/100\n",
      "6/6 [==============================] - 0s 8ms/step - loss: 0.4881 - val_loss: 1.1183\n",
      "Epoch 5/100\n",
      "6/6 [==============================] - 0s 10ms/step - loss: 0.4771 - val_loss: 1.0873\n",
      "Epoch 6/100\n",
      "6/6 [==============================] - 0s 8ms/step - loss: 0.4653 - val_loss: 1.0536\n",
      "Epoch 7/100\n",
      "6/6 [==============================] - 0s 8ms/step - loss: 0.4525 - val_loss: 1.0167\n",
      "Epoch 8/100\n",
      "6/6 [==============================] - 0s 8ms/step - loss: 0.4386 - val_loss: 0.9766\n",
      "Epoch 9/100\n",
      "6/6 [==============================] - 0s 8ms/step - loss: 0.4237 - val_loss: 0.9335\n",
      "Epoch 10/100\n",
      "6/6 [==============================] - 0s 7ms/step - loss: 0.4081 - val_loss: 0.8882\n",
      "Epoch 11/100\n",
      "6/6 [==============================] - 0s 6ms/step - loss: 0.3924 - val_loss: 0.8422\n",
      "Epoch 12/100\n",
      "6/6 [==============================] - 0s 6ms/step - loss: 0.3772 - val_loss: 0.7976\n",
      "Epoch 13/100\n",
      "6/6 [==============================] - 0s 6ms/step - loss: 0.3636 - val_loss: 0.7569\n",
      "Epoch 14/100\n",
      "6/6 [==============================] - 0s 7ms/step - loss: 0.3525 - val_loss: 0.7225\n",
      "Epoch 15/100\n",
      "6/6 [==============================] - 0s 8ms/step - loss: 0.3443 - val_loss: 0.6961\n",
      "Epoch 16/100\n",
      "6/6 [==============================] - 0s 8ms/step - loss: 0.3389 - val_loss: 0.6778\n",
      "Epoch 17/100\n",
      "6/6 [==============================] - 0s 9ms/step - loss: 0.3357 - val_loss: 0.6662\n",
      "Epoch 18/100\n",
      "6/6 [==============================] - 0s 7ms/step - loss: 0.3335 - val_loss: 0.6594\n",
      "Epoch 19/100\n",
      "6/6 [==============================] - 0s 9ms/step - loss: 0.3315 - val_loss: 0.6555\n",
      "Epoch 20/100\n",
      "6/6 [==============================] - 0s 9ms/step - loss: 0.3295 - val_loss: 0.6531\n",
      "Epoch 21/100\n",
      "6/6 [==============================] - 0s 9ms/step - loss: 0.3273 - val_loss: 0.6513\n",
      "Epoch 22/100\n",
      "6/6 [==============================] - 0s 6ms/step - loss: 0.3251 - val_loss: 0.6492\n",
      "Epoch 23/100\n",
      "6/6 [==============================] - 0s 8ms/step - loss: 0.3228 - val_loss: 0.6465\n",
      "Epoch 24/100\n",
      "6/6 [==============================] - 0s 8ms/step - loss: 0.3205 - val_loss: 0.6429\n",
      "Epoch 25/100\n",
      "6/6 [==============================] - 0s 8ms/step - loss: 0.3180 - val_loss: 0.6384\n",
      "Epoch 26/100\n",
      "6/6 [==============================] - 0s 9ms/step - loss: 0.3154 - val_loss: 0.6332\n",
      "Epoch 27/100\n",
      "6/6 [==============================] - 0s 8ms/step - loss: 0.3126 - val_loss: 0.6273\n",
      "Epoch 28/100\n",
      "6/6 [==============================] - 0s 6ms/step - loss: 0.3096 - val_loss: 0.6207\n",
      "Epoch 29/100\n",
      "6/6 [==============================] - 0s 7ms/step - loss: 0.3063 - val_loss: 0.6137\n",
      "Epoch 30/100\n",
      "6/6 [==============================] - 0s 7ms/step - loss: 0.3028 - val_loss: 0.6060\n",
      "Epoch 31/100\n",
      "6/6 [==============================] - 0s 9ms/step - loss: 0.2989 - val_loss: 0.5978\n",
      "Epoch 32/100\n",
      "6/6 [==============================] - 0s 9ms/step - loss: 0.2946 - val_loss: 0.5888\n",
      "Epoch 33/100\n",
      "6/6 [==============================] - 0s 7ms/step - loss: 0.2898 - val_loss: 0.5789\n",
      "Epoch 34/100\n",
      "6/6 [==============================] - 0s 7ms/step - loss: 0.2845 - val_loss: 0.5681\n",
      "Epoch 35/100\n",
      "6/6 [==============================] - 0s 8ms/step - loss: 0.2786 - val_loss: 0.5560\n",
      "Epoch 36/100\n",
      "6/6 [==============================] - 0s 8ms/step - loss: 0.2719 - val_loss: 0.5426\n",
      "Epoch 37/100\n",
      "6/6 [==============================] - 0s 9ms/step - loss: 0.2645 - val_loss: 0.5276\n",
      "Epoch 38/100\n",
      "6/6 [==============================] - 0s 8ms/step - loss: 0.2560 - val_loss: 0.5108\n",
      "Epoch 39/100\n",
      "6/6 [==============================] - 0s 7ms/step - loss: 0.2465 - val_loss: 0.4921\n",
      "Epoch 40/100\n",
      "6/6 [==============================] - 0s 7ms/step - loss: 0.2359 - val_loss: 0.4712\n",
      "Epoch 41/100\n",
      "6/6 [==============================] - 0s 8ms/step - loss: 0.2241 - val_loss: 0.4482\n",
      "Epoch 42/100\n",
      "6/6 [==============================] - 0s 7ms/step - loss: 0.2111 - val_loss: 0.4232\n",
      "Epoch 43/100\n",
      "6/6 [==============================] - 0s 8ms/step - loss: 0.1971 - val_loss: 0.3963\n",
      "Epoch 44/100\n",
      "6/6 [==============================] - 0s 8ms/step - loss: 0.1824 - val_loss: 0.3680\n",
      "Epoch 45/100\n",
      "6/6 [==============================] - 0s 8ms/step - loss: 0.1675 - val_loss: 0.3390\n",
      "Epoch 46/100\n",
      "6/6 [==============================] - 0s 7ms/step - loss: 0.1530 - val_loss: 0.3101\n",
      "Epoch 47/100\n",
      "6/6 [==============================] - 0s 8ms/step - loss: 0.1394 - val_loss: 0.2826\n",
      "Epoch 48/100\n",
      "6/6 [==============================] - 0s 8ms/step - loss: 0.1274 - val_loss: 0.2579\n",
      "Epoch 49/100\n",
      "6/6 [==============================] - 0s 7ms/step - loss: 0.1174 - val_loss: 0.2374\n",
      "Epoch 50/100\n",
      "6/6 [==============================] - 0s 10ms/step - loss: 0.1097 - val_loss: 0.2217\n",
      "Epoch 51/100\n",
      "6/6 [==============================] - 0s 10ms/step - loss: 0.1042 - val_loss: 0.2107\n",
      "Epoch 52/100\n",
      "6/6 [==============================] - 0s 8ms/step - loss: 0.1007 - val_loss: 0.2036\n",
      "Epoch 53/100\n",
      "6/6 [==============================] - 0s 9ms/step - loss: 0.0987 - val_loss: 0.1994\n",
      "Epoch 54/100\n",
      "6/6 [==============================] - 0s 8ms/step - loss: 0.0976 - val_loss: 0.1971\n",
      "Epoch 55/100\n",
      "6/6 [==============================] - 0s 8ms/step - loss: 0.0972 - val_loss: 0.1962\n",
      "Epoch 56/100\n",
      "6/6 [==============================] - 0s 6ms/step - loss: 0.0969 - val_loss: 0.1962\n",
      "Epoch 57/100\n",
      "6/6 [==============================] - 0s 9ms/step - loss: 0.0967 - val_loss: 0.1965\n",
      "Epoch 58/100\n",
      "6/6 [==============================] - 0s 8ms/step - loss: 0.0966 - val_loss: 0.1972\n",
      "Epoch 59/100\n",
      "6/6 [==============================] - 0s 7ms/step - loss: 0.0964 - val_loss: 0.1979\n",
      "Epoch 60/100\n",
      "6/6 [==============================] - 0s 6ms/step - loss: 0.0961 - val_loss: 0.1987\n",
      "Epoch 61/100\n",
      "6/6 [==============================] - 0s 8ms/step - loss: 0.0959 - val_loss: 0.1995\n",
      "Epoch 62/100\n",
      "6/6 [==============================] - 0s 8ms/step - loss: 0.0957 - val_loss: 0.2002\n",
      "Epoch 63/100\n",
      "6/6 [==============================] - 0s 9ms/step - loss: 0.0955 - val_loss: 0.2007\n",
      "Epoch 64/100\n",
      "6/6 [==============================] - 0s 6ms/step - loss: 0.0954 - val_loss: 0.2012\n",
      "Epoch 65/100\n",
      "6/6 [==============================] - 0s 8ms/step - loss: 0.0952 - val_loss: 0.2016\n",
      "Epoch 66/100\n",
      "6/6 [==============================] - 0s 6ms/step - loss: 0.0951 - val_loss: 0.2019\n"
     ]
    }
   ],
   "source": [
    "# Building a LSTM model\n",
    "np.random.seed(42)\n",
    "tf.random.set_seed(42)\n",
    "model = keras.models.Sequential([\n",
    "    keras.layers.LSTM(20, activation='tanh',recurrent_activation='sigmoid', return_sequences=True), # use this for stacked LSTM\n",
    "    keras.layers.LSTM(20, activation='tanh',recurrent_activation='sigmoid'),\n",
    "    keras.layers.Dense(1)\n",
    "])\n",
    "model.compile(loss='mean_squared_error', optimizer='adam')\n",
    "history = model.fit(X_train, y_train, \n",
    "epochs=100, validation_split=0.1, \n",
    "callbacks=keras.callbacks.EarlyStopping(patience=10),\n",
    "shuffle=False)"
   ]
  },
  {
   "cell_type": "code",
   "execution_count": 18,
   "metadata": {},
   "outputs": [
    {
     "name": "stdout",
     "output_type": "stream",
     "text": [
      "2/2 [==============================] - 0s 3ms/step\n"
     ]
    }
   ],
   "source": [
    "# making prediction\n",
    "y_pred = model.predict(X_test)\n",
    "\n",
    "# inverting predictions\n",
    "\n",
    "y_train_inv = GDP_diff_scaler.inverse_transform(y_train.reshape(1, -1)) #transforming y_train to column vector\n",
    "y_test_inv = GDP_diff_scaler.inverse_transform(y_test.reshape(1, -1))\n",
    "y_pred_inv = GDP_diff_scaler.inverse_transform(y_pred.reshape(1,-1))"
   ]
  },
  {
   "cell_type": "code",
   "execution_count": 19,
   "metadata": {},
   "outputs": [
    {
     "data": {
      "image/png": "[encoded data removed]",
      "text/plain": [
       "<Figure size 432x288 with 1 Axes>"
      ]
     },
     "metadata": {
      "needs_background": "light"
     },
     "output_type": "display_data"
    }
   ],
   "source": [
    "# plotting\n",
    "\n",
    "plt.plot(np.arange(0, len(y_train)), y_train_inv.flatten(), 'g', label=\"history\")\n",
    "plt.plot(np.arange(len(y_train), len(y_train) + len(y_test)), y_test_inv.flatten(), 'b', label=\"true\")\n",
    "plt.plot(np.arange(len(y_train), len(y_train) + len(y_test)), y_pred_inv.flatten(), 'r', label=\"prediction\")\n",
    "plt.ylabel('$\\Delta GDP$')\n",
    "plt.xlabel('Period')\n",
    "plt.legend()\n",
    "plt.show();"
   ]
  },
  {
   "cell_type": "markdown",
   "metadata": {},
   "source": [
    "Converting back to GDP level"
   ]
  },
  {
   "cell_type": "code",
   "execution_count": 20,
   "metadata": {},
   "outputs": [],
   "source": [
    "raw_GDP = data[\"GDP\"].values\n",
    "y_train_inv = y_train_inv.flatten() + raw_GDP[time_steps:train_size-1]\n",
    "y_test_inv = y_test_inv.flatten() + raw_GDP[train_size-1:-1,]\n",
    "y_pred_inv = y_pred_inv.flatten() +raw_GDP[train_size-1:-1,]\n"
   ]
  },
  {
   "cell_type": "code",
   "execution_count": 21,
   "metadata": {},
   "outputs": [
    {
     "data": {
      "image/png": "[encoded data removed]",
      "text/plain": [
       "<Figure size 432x288 with 1 Axes>"
      ]
     },
     "metadata": {
      "needs_background": "light"
     },
     "output_type": "display_data"
    }
   ],
   "source": [
    "\n",
    "plt.plot(np.arange(0, len(y_train)), y_train_inv, 'g', label=\"history\")\n",
    "plt.plot(np.arange(len(y_train), len(y_train) + len(y_test)), y_test_inv, 'b', label=\"true\")\n",
    "plt.plot(np.arange(len(y_train), len(y_train) + len(y_test)), y_pred_inv, 'r', label=\"prediction\")\n",
    "plt.ylabel('$ GDP$')\n",
    "plt.xlabel('Period')\n",
    "plt.legend()\n",
    "plt.show();\n"
   ]
  },
  {
   "cell_type": "code",
   "execution_count": 22,
   "metadata": {},
   "outputs": [
    {
     "data": {
      "image/png": "[encoded data removed]",
      "text/plain": [
       "<Figure size 432x288 with 1 Axes>"
      ]
     },
     "metadata": {
      "needs_background": "light"
     },
     "output_type": "display_data"
    }
   ],
   "source": [
    "plt.plot(y_test_inv, marker='.', label=\"true\")\n",
    "plt.plot(y_pred_inv, 'r', label=\"prediction\")\n",
    "plt.ylabel('GDP')\n",
    "plt.xlabel('Time Step')\n",
    "plt.legend()\n",
    "plt.show();"
   ]
  },
  {
   "cell_type": "markdown",
   "metadata": {},
   "source": [
    "Calculating Root Mean Squared Error"
   ]
  },
  {
   "cell_type": "code",
   "execution_count": 179,
   "metadata": {},
   "outputs": [
    {
     "name": "stdout",
     "output_type": "stream",
     "text": [
      "Score: 523.85 RMSE\n"
     ]
    }
   ],
   "source": [
    "# calculate root mean squared error\n",
    "RMSE = math.sqrt(mean_squared_error(y_test_inv, y_pred_inv))\n",
    "print('Score: %.2f RMSE' % (RMSE))"
   ]
  },
  {
   "cell_type": "markdown",
   "metadata": {},
   "source": [
    "### Building Bidirectional LSTM model"
   ]
  },
  {
   "cell_type": "code",
   "execution_count": 24,
   "metadata": {},
   "outputs": [
    {
     "name": "stdout",
     "output_type": "stream",
     "text": [
      "Epoch 1/100\n",
      "6/6 [==============================] - 4s 135ms/step - loss: 0.5156 - val_loss: 1.2155\n",
      "Epoch 2/100\n",
      "6/6 [==============================] - 0s 9ms/step - loss: 0.5022 - val_loss: 1.1903\n",
      "Epoch 3/100\n",
      "6/6 [==============================] - 0s 10ms/step - loss: 0.4888 - val_loss: 1.1632\n",
      "Epoch 4/100\n",
      "6/6 [==============================] - 0s 11ms/step - loss: 0.4775 - val_loss: 1.1355\n",
      "Epoch 5/100\n",
      "6/6 [==============================] - 0s 8ms/step - loss: 0.4665 - val_loss: 1.1063\n",
      "Epoch 6/100\n",
      "6/6 [==============================] - 0s 8ms/step - loss: 0.4589 - val_loss: 1.0762\n",
      "Epoch 7/100\n",
      "6/6 [==============================] - 0s 7ms/step - loss: 0.4443 - val_loss: 1.0454\n",
      "Epoch 8/100\n",
      "6/6 [==============================] - 0s 8ms/step - loss: 0.4348 - val_loss: 1.0135\n",
      "Epoch 9/100\n",
      "6/6 [==============================] - 0s 7ms/step - loss: 0.4196 - val_loss: 0.9805\n",
      "Epoch 10/100\n",
      "6/6 [==============================] - 0s 8ms/step - loss: 0.4052 - val_loss: 0.9459\n",
      "Epoch 11/100\n",
      "6/6 [==============================] - 0s 9ms/step - loss: 0.4006 - val_loss: 0.9096\n",
      "Epoch 12/100\n",
      "6/6 [==============================] - 0s 9ms/step - loss: 0.3731 - val_loss: 0.8728\n",
      "Epoch 13/100\n",
      "6/6 [==============================] - 0s 8ms/step - loss: 0.3645 - val_loss: 0.8348\n",
      "Epoch 14/100\n",
      "6/6 [==============================] - 0s 9ms/step - loss: 0.3551 - val_loss: 0.7968\n",
      "Epoch 15/100\n",
      "6/6 [==============================] - 0s 9ms/step - loss: 0.3254 - val_loss: 0.7592\n",
      "Epoch 16/100\n",
      "6/6 [==============================] - 0s 7ms/step - loss: 0.3114 - val_loss: 0.7230\n",
      "Epoch 17/100\n",
      "6/6 [==============================] - 0s 7ms/step - loss: 0.3106 - val_loss: 0.6897\n",
      "Epoch 18/100\n",
      "6/6 [==============================] - 0s 7ms/step - loss: 0.2976 - val_loss: 0.6600\n",
      "Epoch 19/100\n",
      "6/6 [==============================] - 0s 9ms/step - loss: 0.2936 - val_loss: 0.6344\n",
      "Epoch 20/100\n",
      "6/6 [==============================] - 0s 8ms/step - loss: 0.2923 - val_loss: 0.6138\n",
      "Epoch 21/100\n",
      "6/6 [==============================] - 0s 10ms/step - loss: 0.2933 - val_loss: 0.5982\n",
      "Epoch 22/100\n",
      "6/6 [==============================] - 0s 8ms/step - loss: 0.2929 - val_loss: 0.5879\n",
      "Epoch 23/100\n",
      "6/6 [==============================] - 0s 7ms/step - loss: 0.2773 - val_loss: 0.5788\n",
      "Epoch 24/100\n",
      "6/6 [==============================] - 0s 8ms/step - loss: 0.2801 - val_loss: 0.5724\n",
      "Epoch 25/100\n",
      "6/6 [==============================] - 0s 7ms/step - loss: 0.2864 - val_loss: 0.5673\n",
      "Epoch 26/100\n",
      "6/6 [==============================] - 0s 8ms/step - loss: 0.2688 - val_loss: 0.5626\n",
      "Epoch 27/100\n",
      "6/6 [==============================] - 0s 8ms/step - loss: 0.2702 - val_loss: 0.5566\n",
      "Epoch 28/100\n",
      "6/6 [==============================] - 0s 7ms/step - loss: 0.2829 - val_loss: 0.5504\n",
      "Epoch 29/100\n",
      "6/6 [==============================] - 0s 10ms/step - loss: 0.2754 - val_loss: 0.5456\n",
      "Epoch 30/100\n",
      "6/6 [==============================] - 0s 9ms/step - loss: 0.2715 - val_loss: 0.5429\n",
      "Epoch 31/100\n",
      "6/6 [==============================] - 0s 7ms/step - loss: 0.2599 - val_loss: 0.5411\n",
      "Epoch 32/100\n",
      "6/6 [==============================] - 0s 9ms/step - loss: 0.2699 - val_loss: 0.5388\n",
      "Epoch 33/100\n",
      "6/6 [==============================] - 0s 7ms/step - loss: 0.2720 - val_loss: 0.5365\n",
      "Epoch 34/100\n",
      "6/6 [==============================] - 0s 8ms/step - loss: 0.2616 - val_loss: 0.5328\n",
      "Epoch 35/100\n",
      "6/6 [==============================] - 0s 7ms/step - loss: 0.2688 - val_loss: 0.5290\n",
      "Epoch 36/100\n",
      "6/6 [==============================] - 0s 7ms/step - loss: 0.2653 - val_loss: 0.5243\n",
      "Epoch 37/100\n",
      "6/6 [==============================] - 0s 7ms/step - loss: 0.2647 - val_loss: 0.5210\n",
      "Epoch 38/100\n",
      "6/6 [==============================] - 0s 7ms/step - loss: 0.2662 - val_loss: 0.5177\n",
      "Epoch 39/100\n",
      "6/6 [==============================] - 0s 7ms/step - loss: 0.2616 - val_loss: 0.5151\n",
      "Epoch 40/100\n",
      "6/6 [==============================] - 0s 7ms/step - loss: 0.2510 - val_loss: 0.5133\n",
      "Epoch 41/100\n",
      "6/6 [==============================] - 0s 8ms/step - loss: 0.2499 - val_loss: 0.5112\n",
      "Epoch 42/100\n",
      "6/6 [==============================] - 0s 8ms/step - loss: 0.2665 - val_loss: 0.5087\n",
      "Epoch 43/100\n",
      "6/6 [==============================] - 0s 7ms/step - loss: 0.2442 - val_loss: 0.5049\n",
      "Epoch 44/100\n",
      "6/6 [==============================] - 0s 8ms/step - loss: 0.2478 - val_loss: 0.5012\n",
      "Epoch 45/100\n",
      "6/6 [==============================] - 0s 9ms/step - loss: 0.2519 - val_loss: 0.4963\n",
      "Epoch 46/100\n",
      "6/6 [==============================] - 0s 9ms/step - loss: 0.2492 - val_loss: 0.4928\n",
      "Epoch 47/100\n",
      "6/6 [==============================] - 0s 9ms/step - loss: 0.2447 - val_loss: 0.4909\n",
      "Epoch 48/100\n",
      "6/6 [==============================] - 0s 7ms/step - loss: 0.2380 - val_loss: 0.4872\n",
      "Epoch 49/100\n",
      "6/6 [==============================] - 0s 7ms/step - loss: 0.2507 - val_loss: 0.4816\n",
      "Epoch 50/100\n",
      "6/6 [==============================] - 0s 7ms/step - loss: 0.2346 - val_loss: 0.4762\n",
      "Epoch 51/100\n",
      "6/6 [==============================] - 0s 8ms/step - loss: 0.2371 - val_loss: 0.4709\n",
      "Epoch 52/100\n",
      "6/6 [==============================] - 0s 9ms/step - loss: 0.2453 - val_loss: 0.4667\n",
      "Epoch 53/100\n",
      "6/6 [==============================] - 0s 8ms/step - loss: 0.2326 - val_loss: 0.4638\n",
      "Epoch 54/100\n",
      "6/6 [==============================] - 0s 9ms/step - loss: 0.2355 - val_loss: 0.4639\n",
      "Epoch 55/100\n",
      "6/6 [==============================] - 0s 9ms/step - loss: 0.2373 - val_loss: 0.4607\n",
      "Epoch 56/100\n",
      "6/6 [==============================] - 0s 8ms/step - loss: 0.2385 - val_loss: 0.4568\n",
      "Epoch 57/100\n",
      "6/6 [==============================] - 0s 8ms/step - loss: 0.2346 - val_loss: 0.4532\n",
      "Epoch 58/100\n",
      "6/6 [==============================] - 0s 9ms/step - loss: 0.2247 - val_loss: 0.4489\n",
      "Epoch 59/100\n",
      "6/6 [==============================] - 0s 8ms/step - loss: 0.2340 - val_loss: 0.4442\n",
      "Epoch 60/100\n",
      "6/6 [==============================] - 0s 7ms/step - loss: 0.2299 - val_loss: 0.4391\n",
      "Epoch 61/100\n",
      "6/6 [==============================] - 0s 8ms/step - loss: 0.2276 - val_loss: 0.4363\n",
      "Epoch 62/100\n",
      "6/6 [==============================] - 0s 8ms/step - loss: 0.2220 - val_loss: 0.4308\n",
      "Epoch 63/100\n",
      "6/6 [==============================] - 0s 6ms/step - loss: 0.2203 - val_loss: 0.4241\n",
      "Epoch 64/100\n",
      "6/6 [==============================] - 0s 9ms/step - loss: 0.2139 - val_loss: 0.4184\n",
      "Epoch 65/100\n",
      "6/6 [==============================] - 0s 7ms/step - loss: 0.2063 - val_loss: 0.4123\n",
      "Epoch 66/100\n",
      "6/6 [==============================] - 0s 10ms/step - loss: 0.2126 - val_loss: 0.4073\n",
      "Epoch 67/100\n",
      "6/6 [==============================] - 0s 9ms/step - loss: 0.2056 - val_loss: 0.4032\n",
      "Epoch 68/100\n",
      "6/6 [==============================] - 0s 8ms/step - loss: 0.2139 - val_loss: 0.4003\n",
      "Epoch 69/100\n",
      "6/6 [==============================] - 0s 7ms/step - loss: 0.1918 - val_loss: 0.3943\n",
      "Epoch 70/100\n",
      "6/6 [==============================] - 0s 7ms/step - loss: 0.1946 - val_loss: 0.3854\n",
      "Epoch 71/100\n",
      "6/6 [==============================] - 0s 9ms/step - loss: 0.1953 - val_loss: 0.3730\n",
      "Epoch 72/100\n",
      "6/6 [==============================] - 0s 8ms/step - loss: 0.1909 - val_loss: 0.3599\n",
      "Epoch 73/100\n",
      "6/6 [==============================] - 0s 8ms/step - loss: 0.1754 - val_loss: 0.3481\n",
      "Epoch 74/100\n",
      "6/6 [==============================] - 0s 8ms/step - loss: 0.1706 - val_loss: 0.3391\n",
      "Epoch 75/100\n",
      "6/6 [==============================] - 0s 9ms/step - loss: 0.1854 - val_loss: 0.3333\n",
      "Epoch 76/100\n",
      "6/6 [==============================] - 0s 8ms/step - loss: 0.1644 - val_loss: 0.3252\n",
      "Epoch 77/100\n",
      "6/6 [==============================] - 0s 11ms/step - loss: 0.1543 - val_loss: 0.3127\n",
      "Epoch 78/100\n",
      "6/6 [==============================] - 0s 8ms/step - loss: 0.1449 - val_loss: 0.2981\n",
      "Epoch 79/100\n",
      "6/6 [==============================] - 0s 8ms/step - loss: 0.1518 - val_loss: 0.2801\n",
      "Epoch 80/100\n",
      "6/6 [==============================] - 0s 9ms/step - loss: 0.1363 - val_loss: 0.2648\n",
      "Epoch 81/100\n",
      "6/6 [==============================] - 0s 8ms/step - loss: 0.1363 - val_loss: 0.2580\n",
      "Epoch 82/100\n",
      "6/6 [==============================] - 0s 8ms/step - loss: 0.1201 - val_loss: 0.2522\n",
      "Epoch 83/100\n",
      "6/6 [==============================] - 0s 9ms/step - loss: 0.1241 - val_loss: 0.2419\n",
      "Epoch 84/100\n",
      "6/6 [==============================] - 0s 9ms/step - loss: 0.1321 - val_loss: 0.2289\n",
      "Epoch 85/100\n",
      "6/6 [==============================] - 0s 9ms/step - loss: 0.1142 - val_loss: 0.2222\n",
      "Epoch 86/100\n",
      "6/6 [==============================] - 0s 9ms/step - loss: 0.1130 - val_loss: 0.2238\n",
      "Epoch 87/100\n",
      "6/6 [==============================] - 0s 9ms/step - loss: 0.1149 - val_loss: 0.2279\n",
      "Epoch 88/100\n",
      "6/6 [==============================] - 0s 9ms/step - loss: 0.1093 - val_loss: 0.2151\n",
      "Epoch 89/100\n",
      "6/6 [==============================] - 0s 9ms/step - loss: 0.1065 - val_loss: 0.2070\n",
      "Epoch 90/100\n",
      "6/6 [==============================] - 0s 8ms/step - loss: 0.1189 - val_loss: 0.2110\n",
      "Epoch 91/100\n",
      "6/6 [==============================] - 0s 9ms/step - loss: 0.1296 - val_loss: 0.2107\n",
      "Epoch 92/100\n",
      "6/6 [==============================] - 0s 10ms/step - loss: 0.1096 - val_loss: 0.2122\n",
      "Epoch 93/100\n",
      "6/6 [==============================] - 0s 11ms/step - loss: 0.1106 - val_loss: 0.2174\n",
      "Epoch 94/100\n",
      "6/6 [==============================] - 0s 8ms/step - loss: 0.1059 - val_loss: 0.2141\n",
      "Epoch 95/100\n",
      "6/6 [==============================] - 0s 8ms/step - loss: 0.1193 - val_loss: 0.2097\n",
      "Epoch 96/100\n",
      "6/6 [==============================] - 0s 10ms/step - loss: 0.1108 - val_loss: 0.2017\n",
      "Epoch 97/100\n",
      "6/6 [==============================] - 0s 9ms/step - loss: 0.1034 - val_loss: 0.1980\n",
      "Epoch 98/100\n",
      "6/6 [==============================] - 0s 7ms/step - loss: 0.1065 - val_loss: 0.1994\n",
      "Epoch 99/100\n",
      "6/6 [==============================] - 0s 9ms/step - loss: 0.1055 - val_loss: 0.2062\n",
      "Epoch 100/100\n",
      "6/6 [==============================] - 0s 10ms/step - loss: 0.1103 - val_loss: 0.2063\n"
     ]
    }
   ],
   "source": [
    "# Building a Bidirectoral LSTM model\n",
    "np.random.seed(42)\n",
    "tf.random.set_seed(42)\n",
    "model = keras.models.Sequential()\n",
    "forward_layer = keras.layers.LSTM(10, return_sequences=True)\n",
    "backward_layer = keras.layers.LSTM(10, activation='relu', return_sequences=True,\n",
    "                       go_backwards=True)\n",
    "\n",
    "model.add(keras.layers.Bidirectional(forward_layer, backward_layer=backward_layer,\n",
    "))\n",
    "model.add(keras.layers.Bidirectional(keras.layers.LSTM(10)))\n",
    "model.add(keras.layers.Dropout(rate=0.2))\n",
    "model.add(keras.layers.Dense(1))\n",
    "model.compile(loss='mean_squared_error', optimizer='adam')\n",
    "history = model.fit(X_train, y_train, \n",
    "epochs=100, validation_split=0.1, \n",
    "callbacks=keras.callbacks.EarlyStopping(patience=10),\n",
    "shuffle=False)"
   ]
  },
  {
   "cell_type": "code",
   "execution_count": 25,
   "metadata": {},
   "outputs": [
    {
     "name": "stdout",
     "output_type": "stream",
     "text": [
      "2/2 [==============================] - 1s 3ms/step\n"
     ]
    },
    {
     "data": {
      "image/png": "[encoded data removed]",
      "text/plain": [
       "<Figure size 432x288 with 1 Axes>"
      ]
     },
     "metadata": {
      "needs_background": "light"
     },
     "output_type": "display_data"
    }
   ],
   "source": [
    "# making prediction\n",
    "y_pred = model.predict(X_test)\n",
    "\n",
    "# inverting predictions\n",
    "\n",
    "y_train_inv = GDP_diff_scaler.inverse_transform(y_train.reshape(1, -1)) #transforming y_train to column vector\n",
    "y_test_inv = GDP_diff_scaler.inverse_transform(y_test.reshape(1, -1))\n",
    "y_pred_inv = GDP_diff_scaler.inverse_transform(y_pred.reshape(1,-1))\n",
    "\n",
    "\n",
    "# converting back to the level\n",
    "\n",
    "y_train_inv = y_train_inv.flatten() + raw_GDP[time_steps:train_size-1]\n",
    "y_test_inv = y_test_inv.flatten() + raw_GDP[train_size-1:-1,]\n",
    "y_pred_inv = y_pred_inv.flatten() +raw_GDP[train_size-1:-1,]\n",
    "\n",
    "\n",
    "plt.plot(np.arange(0, len(y_train)), y_train_inv, 'g', label=\"history\")\n",
    "plt.plot(np.arange(len(y_train), len(y_train) + len(y_test)), y_test_inv, 'b', label=\"true\")\n",
    "plt.plot(np.arange(len(y_train), len(y_train) + len(y_test)), y_pred_inv, 'r', label=\"prediction\")\n",
    "plt.ylabel('$ GDP$')\n",
    "plt.xlabel('Period')\n",
    "plt.legend()\n",
    "plt.show();"
   ]
  }
 ],
 "metadata": {
  "kernelspec": {
   "display_name": "Python 3.10.0 64-bit",
   "language": "python",
   "name": "python3"
  },
  "language_info": {
   "codemirror_mode": {
    "name": "ipython",
    "version": 3
   },
   "file_extension": ".py",
   "mimetype": "text/x-python",
   "name": "python",
   "nbconvert_exporter": "python",
   "pygments_lexer": "ipython3",
   "version": "3.10.0"
  },
  "orig_nbformat": 4,
  "vscode": {
   "interpreter": {
    "hash": "369f2c481f4da34e4445cda3fffd2e751bd1c4d706f27375911949ba6bb62e1c"
   }
  }
 },
 "nbformat": 4,
 "nbformat_minor": 2
}
